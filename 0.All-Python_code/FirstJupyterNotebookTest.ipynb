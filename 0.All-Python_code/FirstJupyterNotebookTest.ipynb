{
 "cells": [
  {
   "cell_type": "code",
   "execution_count": 1,
   "metadata": {},
   "outputs": [
    {
     "data": {
      "text/plain": [
       "4"
      ]
     },
     "execution_count": 1,
     "metadata": {},
     "output_type": "execute_result"
    }
   ],
   "source": [
    "1+3"
   ]
  },
  {
   "cell_type": "markdown",
   "metadata": {},
   "source": [
    "## this is a markdown cell"
   ]
  },
  {
   "cell_type": "code",
   "execution_count": 3,
   "metadata": {},
   "outputs": [
    {
     "name": "stdout",
     "output_type": "stream",
     "text": [
      "[0, 2, 3]\n"
     ]
    }
   ],
   "source": [
    "def same_values(lst1, lst2): \n",
    "  new_lst = []\n",
    "  for i in range(len(lst1)): \n",
    "    if lst1[i] == lst2[i]:\n",
    "      new_lst.append(i)\n",
    "  return new_lst\n",
    "\n",
    "print(same_values([5, 1, -10, 3, 3], [5, 10, -10, 3, 5]))"
   ]
  },
  {
   "cell_type": "code",
   "execution_count": 4,
   "metadata": {},
   "outputs": [
    {
     "name": "stdout",
     "output_type": "stream",
     "text": [
      "75\n"
     ]
    }
   ],
   "source": [
    "def max_num(nums):\n",
    "  for number in nums: \n",
    "    sorted_list = sorted(nums)\n",
    "    #print(sorted_list) #this is a test to see if it sorted the numbers from smallest to highest\n",
    "    maxNum = sorted_list.pop() # this will take off the last element, the highest number, and add it to a new list\n",
    "  #print(maxNum) #this tests if maxNum holds the highest number\n",
    "  return maxNum\n",
    "\n",
    "print(max_num([50, -10, 0, 75, 20]))"
   ]
  },
  {
   "cell_type": "code",
   "execution_count": 5,
   "metadata": {},
   "outputs": [
    {
     "name": "stdout",
     "output_type": "stream",
     "text": [
      "9020\n"
     ]
    }
   ],
   "source": [
    "def over_nine_thousand(lst):\n",
    "  sum1 = 0\n",
    "  for i in lst: \n",
    "    sum1 += i\n",
    "    if sum1 >= 9000:\n",
    "      break\n",
    "  return sum1\n",
    "  print(sum1)\n",
    "  \n",
    "print(over_nine_thousand([8000, 900, 120, 5000]))"
   ]
  },
  {
   "cell_type": "code",
   "execution_count": null,
   "metadata": {},
   "outputs": [],
   "source": []
  }
 ],
 "metadata": {
  "kernelspec": {
   "display_name": "Python 3",
   "language": "python",
   "name": "python3"
  },
  "language_info": {
   "codemirror_mode": {
    "name": "ipython",
    "version": 3
   },
   "file_extension": ".py",
   "mimetype": "text/x-python",
   "name": "python",
   "nbconvert_exporter": "python",
   "pygments_lexer": "ipython3",
   "version": "3.7.6"
  }
 },
 "nbformat": 4,
 "nbformat_minor": 4
}
